{
 "cells": [
  {
   "cell_type": "code",
   "execution_count": 15,
   "metadata": {},
   "outputs": [],
   "source": [
    "from mysql.connector import errorcode\n",
    "import mysql.connector\n",
    "\n",
    "class MySqlQuary : #Class que realizar conexão com bando Mysql\n",
    "    \n",
    "    def __init__(self, use_pure:bool=False, host='', port=int, database='', user='', password='') -> None:\n",
    "        '''\n",
    "        Construtor da class\n",
    "        \n",
    "        @use_pure : A configuração use_pure=False faz com que a conexão use a extensão C se sua instalação do Connector/Python a incluir, \n",
    "                    enquanto use_pure=True significa False que a implementação do Python é usada, se disponível.\n",
    "        @host : varivael recebe host de conexão com banco\n",
    "        @port : variavel recebe port de conexão com banco\n",
    "        @database : variavel recebe nome do banco \n",
    "        @user : variavel recebe usuário do banco\n",
    "        @password : variavel recebe senha do banco\n",
    "        '''\n",
    "        self.use_pure = use_pure\n",
    "        self.host = host\n",
    "        self.port = port\n",
    "        self.database = database\n",
    "        self.user = user\n",
    "        self.password = password\n",
    "        \n",
    "        \n",
    "        def __del__(self) -> None:\n",
    "            if self.cursor:\n",
    "                self.close() \n",
    "            \n",
    "    def connect(self) -> None:\n",
    "        '''\n",
    "        Esse método realiza a conexão com o banco de dados MySql\n",
    "            \n",
    "        Parameters:\n",
    "        @user : variavel do construtor com informação do usuario\n",
    "        @password : variavel do construtor com informação da senha\n",
    "        @host : variavel do construtor com informação host do banco\n",
    "        @database : variavel do construtor com informação o nome do banco\n",
    "        @use_pure : variavel dp construtor com a informação booll conexão de extenção com LP 'C' se sua instalação do Connector/Python a incluir.\n",
    "        @use_unicode = Se deve usar Unicode (TRUE) -> Por padrão, as strings provenientes do MySQL \n",
    "        são retornadas como literais Python Unicode.Como prevenção está informado como verdadeiro\n",
    "        '''\n",
    "        try:\n",
    "            self.connection = mysql.connector.connect( host=self.host,\n",
    "                                                       user=self.user,\n",
    "                                                       password=self.password,\n",
    "                                                       database=self.database)\n",
    "            return self.connection\n",
    "        \n",
    "        except mysql.connector.Error as error:\n",
    "            \n",
    "            if error.errno == errorcode.ER_BAD_DB_ERROR:\n",
    "                print(\"Database não existe\")\n",
    "            \n",
    "            if error.errno == errorcode.ER_ACCESS_DENIED_ERROR:\n",
    "                print(\"Usuáro ou  senha  está errado\")\n",
    "                print(error)       \n",
    "        return \n",
    "        \n",
    "    def sqltoQuery(self, query=str):\n",
    "      \n",
    "        if self.connect() != None:\n",
    "            self.cursor = self.connection.cursor()\n",
    "            self.cursor.execute(query)\n",
    "            print(self.cursor.fetchone())\n",
    "            \n",
    "        else:\n",
    "            print(\"Erro conexão com banco\")\n"
   ]
  },
  {
   "cell_type": "code",
   "execution_count": 21,
   "metadata": {},
   "outputs": [
    {
     "name": "stdout",
     "output_type": "stream",
     "text": [
      "(1, 'Gol-Gt', 'verde', 'carla')\n"
     ]
    }
   ],
   "source": [
    "sql = MySqlQuary()\n",
    "sql.sqltoQuery('SELECT * FROM CARRO')\n"
   ]
  }
 ],
 "metadata": {
  "kernelspec": {
   "display_name": "env",
   "language": "python",
   "name": "python3"
  },
  "language_info": {
   "codemirror_mode": {
    "name": "ipython",
    "version": 3
   },
   "file_extension": ".py",
   "mimetype": "text/x-python",
   "name": "python",
   "nbconvert_exporter": "python",
   "pygments_lexer": "ipython3",
   "version": "3.10.4"
  },
  "orig_nbformat": 4
 },
 "nbformat": 4,
 "nbformat_minor": 2
}
